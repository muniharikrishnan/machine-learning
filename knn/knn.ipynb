{
 "cells": [
  {
   "cell_type": "code",
   "execution_count": null,
   "metadata": {
    "vscode": {
     "languageId": "plaintext"
    }
   },
   "outputs": [],
   "source": [
    "#import necessary libraries\n",
    "import numpy as np\n",
    "import pandas as pd\n",
    "import matplotlib.pyplot as plt\n",
    "import seaborn as sns\n",
    "from sklearn.neighbors import KNeighborsClassifier\n",
    "from sklearn.preprocessing import LabelEncoder\n"
   ]
  },
  {
   "cell_type": "code",
   "execution_count": null,
   "metadata": {
    "vscode": {
     "languageId": "plaintext"
    }
   },
   "outputs": [],
   "source": [
    "data = {\n",
    "    'X1': [2, 5, 1, 7, 4],\n",
    "    'X2': [3, 8, 6, 2, 7],\n",
    "    'Class': ['A', 'B', 'A', 'B', '?']\n",
    "}\n",
    "\n",
    "df=pd.DataFrame(data)\n",
    "# print(df)\n",
    "\n",
    "# x=df[[\"X1\",\"X2\"]]\n",
    "x=df.iloc[:,:-1]\n",
    "y=df[\"Class\"]\n",
    "print(x)\n",
    "print(y)\n",
    "\n"
   ]
  },
  {
   "cell_type": "code",
   "execution_count": null,
   "metadata": {
    "vscode": {
     "languageId": "plaintext"
    }
   },
   "outputs": [],
   "source": [
    "#splititing the training and testing datas\n",
    "x_train=x.iloc[:-1,:]\n",
    "y_train=y[:-1]\n",
    "x_test=x.iloc[-1:,:]\n",
    "print(x_train)\n",
    "print(y_train)\n",
    "print(x_test)"
   ]
  },
  {
   "cell_type": "code",
   "execution_count": null,
   "metadata": {
    "vscode": {
     "languageId": "plaintext"
    }
   },
   "outputs": [],
   "source": [
    "label_encoder=LabelEncoder()\n",
    "encoded_y=label_encoder.fit_transform(y_train)\n",
    "encoded_yy=y_train.astype('category').cat.codes\n",
    "print(encoded_y)\n",
    "print(encoded_yy)\n",
    "y_train=encoded_y\n"
   ]
  },
  {
   "cell_type": "code",
   "execution_count": null,
   "metadata": {
    "vscode": {
     "languageId": "plaintext"
    }
   },
   "outputs": [],
   "source": [
    "model=KNeighborsClassifier(n_neighbors=3)\n",
    "model.fit(x_train,y_train)"
   ]
  },
  {
   "cell_type": "code",
   "execution_count": null,
   "metadata": {
    "vscode": {
     "languageId": "plaintext"
    }
   },
   "outputs": [],
   "source": [
    "print(x_test)\n",
    "y_pred=model.predict(x_test)\n",
    "print(y_pred)"
   ]
  }
 ],
 "metadata": {
  "language_info": {
   "name": "python"
  }
 },
 "nbformat": 4,
 "nbformat_minor": 2
}
