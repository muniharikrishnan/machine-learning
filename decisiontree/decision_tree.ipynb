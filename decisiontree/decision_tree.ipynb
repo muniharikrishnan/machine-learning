{
 "cells": [
  {
   "cell_type": "code",
   "execution_count": null,
   "metadata": {
    "vscode": {
     "languageId": "plaintext"
    }
   },
   "outputs": [],
   "source": [
    "# Import required libraries\n",
    "from sklearn.tree import DecisionTreeClassifier, export_text\n",
    "from sklearn import preprocessing\n",
    "import pandas as pd\n",
    "\n",
    "# Define the dataset\n",
    "data = {\n",
    "    \"Weather\": [\"Sunny\", \"Sunny\", \"Sunny\", \"Rainy\", \"Rainy\", \"Overcast\", \"Overcast\", \"Rainy\"],\n",
    "    \"Target\": [\"No\", \"No\", \"Yes\", \"Yes\", \"No\", \"Yes\", \"Yes\", \"Yes\"]\n",
    "}\n",
    "\n",
    "# Create a DataFrame\n",
    "df = pd.DataFrame(data)\n",
    "\n",
    "# Convert categorical data to numerical data\n",
    "label_encoder = preprocessing.LabelEncoder()\n",
    "df[\"Weather_encoded\"] = label_encoder.fit_transform(df[\"Weather\"])\n",
    "df[\"Target_encoded\"] = label_encoder.fit_transform(df[\"Target\"])\n",
    "\n",
    "# Split features and target\n",
    "X = df[[\"Weather_encoded\"]]  # Features (Weather)\n",
    "y = df[\"Target_encoded\"]     # Target (Yes/No)\n",
    "\n",
    "# Train a Decision Tree Classifier\n",
    "clf = DecisionTreeClassifier(criterion=\"entropy\", random_state=42)\n",
    "clf.fit(X, y)\n",
    "\n",
    "# Visualize the tree\n",
    "tree_rules = export_text(clf, feature_names=[\"Weather\"])\n",
    "print(\"Decision Tree Rules:\")\n",
    "print(tree_rules)\n",
    "\n",
    "# Predict on a new data point\n",
    "new_data = [[label_encoder.transform([\"Sunny\"])[0]]]\n",
    "prediction = clf.predict(new_data)\n",
    "print(\"\\nPrediction for 'Sunny':\", label_encoder.inverse_transform(prediction)[0])\n"
   ]
  }
 ],
 "metadata": {
  "language_info": {
   "name": "python"
  }
 },
 "nbformat": 4,
 "nbformat_minor": 2
}
