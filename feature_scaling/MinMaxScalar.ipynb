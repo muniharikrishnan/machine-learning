{
 "cells": [
  {
   "cell_type": "code",
   "execution_count": null,
   "metadata": {
    "vscode": {
     "languageId": "plaintext"
    }
   },
   "outputs": [],
   "source": [
    "import numpy as np\n",
    "from sklearn.preprocessing import MinMaxScaler, StandardScaler\n",
    "\n",
    "# Example dataset\n",
    "data = np.array([[150], [160], [170], [180], [190]]).astype(float)\n",
    "\n",
    "# Min-Max Scaling\n",
    "min_max_scaler = MinMaxScaler()\n",
    "data_minmax_scaled = min_max_scaler.fit_transform(data)\n",
    "\n",
    "\n",
    "# Display results\n",
    "print(\"Original Data:\\n\", data)\n",
    "print(\"\\nMin-Max Scaled Data (Range [0, 1]):\\n\", data_minmax_scaled)\n",
    "\n"
   ]
  }
 ],
 "metadata": {
  "language_info": {
   "name": "python"
  }
 },
 "nbformat": 4,
 "nbformat_minor": 2
}
