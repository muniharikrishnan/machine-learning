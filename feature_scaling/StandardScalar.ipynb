{
 "cells": [
  {
   "cell_type": "code",
   "execution_count": null,
   "metadata": {
    "vscode": {
     "languageId": "plaintext"
    }
   },
   "outputs": [],
   "source": [
    "import numpy as np\n",
    "from sklearn.preprocessing import MinMaxScaler, StandardScaler\n",
    "\n",
    "# Example dataset\n",
    "data = np.array([[150], [160], [170], [180], [190]]).astype(float)\n",
    "\n",
    "\n",
    "# Standardization (Z-score Scaling)\n",
    "standard_scaler = StandardScaler()\n",
    "data_standard_scaled = standard_scaler.fit_transform(data)\n",
    "\n",
    "\n",
    "print(\"\\nStandardized Data (Mean 0, Std Dev 1):\\n\", data_standard_scaled)"
   ]
  }
 ],
 "metadata": {
  "language_info": {
   "name": "python"
  }
 },
 "nbformat": 4,
 "nbformat_minor": 2
}
