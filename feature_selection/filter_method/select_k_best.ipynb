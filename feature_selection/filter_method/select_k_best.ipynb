{
 "cells": [
  {
   "cell_type": "code",
   "execution_count": null,
   "metadata": {
    "vscode": {
     "languageId": "plaintext"
    }
   },
   "outputs": [],
   "source": [
    "#feature selection methods\n",
    "from sklearn.datasets import load_iris\n",
    "from sklearn.feature_selection import SelectKBest\n",
    "from sklearn.feature_selection import chi2,f_regression\n",
    "from sklearn.model_selection import train_test_split\n",
    "x=load_iris().data\n",
    "y=load_iris().target\n",
    "\n",
    "x_train,x_test,y_train,y_test=train_test_split(x,y,test_size=0.3)\n",
    "print(x_train.shape)\n",
    "print(x_test.shape)\n",
    "print(y_train.shape)\n",
    "print(y_test.shape)\n",
    "\n",
    "x_train_new=SelectKBest(score_func=chi2,k=2).fit_transform(x_train,y_train)\n",
    "x_test_new=SelectKBest(score_func=chi2,k=2).fit_transform(x_test,y_test)\n",
    "print(x_train_new.shape)\n",
    "print(x_test_new.shape)"
   ]
  }
 ],
 "metadata": {
  "language_info": {
   "name": "python"
  }
 },
 "nbformat": 4,
 "nbformat_minor": 2
}
