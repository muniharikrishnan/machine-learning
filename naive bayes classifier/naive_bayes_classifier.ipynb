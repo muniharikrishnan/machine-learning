{
 "cells": [
  {
   "cell_type": "code",
   "execution_count": null,
   "metadata": {
    "vscode": {
     "languageId": "plaintext"
    }
   },
   "outputs": [],
   "source": [
    "#import the necesaary classes and methods\n",
    "import pandas as pd\n",
    "import numpy as np\n",
    "from sklearn.model_selection import train_test_split\n",
    "from sklearn.naive_bayes import CategoricalNB\n",
    "from sklearn.metrics import accuracy_score"
   ]
  },
  {
   "cell_type": "code",
   "execution_count": null,
   "metadata": {
    "vscode": {
     "languageId": "plaintext"
    }
   },
   "outputs": [],
   "source": [
    "#dataset preparation\n",
    "data = {\n",
    "    'weather': ['Rainy', 'Rainy', 'Sunny', 'Sunny', 'Overcast', 'Overcast', 'Overcast'],\n",
    "    'play': ['No', 'No', 'Yes', 'Yes', 'Yes', 'Yes', 'No']\n",
    "}\n",
    "\n",
    "df=pd.DataFrame(data)\n",
    "print(df.to_string())"
   ]
  },
  {
   "cell_type": "code",
   "execution_count": null,
   "metadata": {
    "vscode": {
     "languageId": "plaintext"
    }
   },
   "outputs": [],
   "source": [
    "#convert friom categorcial to numerical data \n",
    "df[\"weather\"]=df[\"weather\"].astype('category').cat.codes\n",
    "df[\"play\"]=df[\"play\"].astype('category').cat.codes\n",
    "\n",
    "print(df['weather'])\n",
    "print(df[\"play\"])"
   ]
  },
  {
   "cell_type": "code",
   "execution_count": null,
   "metadata": {
    "vscode": {
     "languageId": "plaintext"
    }
   },
   "outputs": [],
   "source": [
    "# choose the input features and the target variables \n",
    "x=df[['weather']]\n",
    "z=np.array(df[\"weather\"])\n",
    "# z=z.reshape(-1,1)\n",
    "\n",
    "\n",
    "y=df['play']\n",
    "print(x.ndim)\n",
    "\n",
    "# print(z)\n",
    "\n"
   ]
  },
  {
   "cell_type": "code",
   "execution_count": null,
   "metadata": {
    "vscode": {
     "languageId": "plaintext"
    }
   },
   "outputs": [],
   "source": [
    "#Train the model\n",
    "x_train,x_test,y_tarin,y_test=train_test_split(x,y,test_size=0.2,random_state=42)\n",
    "model=CategoricalNB()\n",
    "model.fit(x_train,y_tarin)"
   ]
  },
  {
   "cell_type": "code",
   "execution_count": null,
   "metadata": {
    "vscode": {
     "languageId": "plaintext"
    }
   },
   "outputs": [],
   "source": [
    "#predcit with the testing input features\n",
    "y_pred=model.predict(x_test)\n",
    "print(y_pred)\n"
   ]
  },
  {
   "cell_type": "code",
   "execution_count": null,
   "metadata": {
    "vscode": {
     "languageId": "plaintext"
    }
   },
   "outputs": [],
   "source": [
    "#calculate the accuracy score\n",
    "accuracy=accuracy_score(y_test,y_pred)\n",
    "print(accuracy)"
   ]
  }
 ],
 "metadata": {
  "language_info": {
   "name": "python"
  }
 },
 "nbformat": 4,
 "nbformat_minor": 2
}
